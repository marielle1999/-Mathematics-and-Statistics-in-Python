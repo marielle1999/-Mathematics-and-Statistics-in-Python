{
 "cells": [
  {
   "cell_type": "code",
   "execution_count": 4,
   "metadata": {},
   "outputs": [
    {
     "name": "stdout",
     "output_type": "stream",
     "text": [
      "Requirement already satisfied: pandas in /home/codespace/.local/lib/python3.10/site-packages (2.2.1)\n",
      "Requirement already satisfied: matplotlib in /home/codespace/.local/lib/python3.10/site-packages (3.8.3)\n",
      "Requirement already satisfied: seaborn in /home/codespace/.local/lib/python3.10/site-packages (0.13.2)\n",
      "Requirement already satisfied: numpy<2,>=1.22.4 in /home/codespace/.local/lib/python3.10/site-packages (from pandas) (1.26.4)\n",
      "Requirement already satisfied: python-dateutil>=2.8.2 in /home/codespace/.local/lib/python3.10/site-packages (from pandas) (2.9.0.post0)\n",
      "Requirement already satisfied: pytz>=2020.1 in /home/codespace/.local/lib/python3.10/site-packages (from pandas) (2024.1)\n",
      "Requirement already satisfied: tzdata>=2022.7 in /home/codespace/.local/lib/python3.10/site-packages (from pandas) (2024.1)\n",
      "Requirement already satisfied: contourpy>=1.0.1 in /home/codespace/.local/lib/python3.10/site-packages (from matplotlib) (1.2.0)\n",
      "Requirement already satisfied: cycler>=0.10 in /home/codespace/.local/lib/python3.10/site-packages (from matplotlib) (0.12.1)\n",
      "Requirement already satisfied: fonttools>=4.22.0 in /home/codespace/.local/lib/python3.10/site-packages (from matplotlib) (4.50.0)\n",
      "Requirement already satisfied: kiwisolver>=1.3.1 in /home/codespace/.local/lib/python3.10/site-packages (from matplotlib) (1.4.5)\n",
      "Requirement already satisfied: packaging>=20.0 in /home/codespace/.local/lib/python3.10/site-packages (from matplotlib) (24.0)\n",
      "Requirement already satisfied: pillow>=8 in /home/codespace/.local/lib/python3.10/site-packages (from matplotlib) (10.2.0)\n",
      "Requirement already satisfied: pyparsing>=2.3.1 in /home/codespace/.local/lib/python3.10/site-packages (from matplotlib) (3.1.2)\n",
      "Requirement already satisfied: six>=1.5 in /home/codespace/.local/lib/python3.10/site-packages (from python-dateutil>=2.8.2->pandas) (1.16.0)\n",
      "Note: you may need to restart the kernel to use updated packages.\n"
     ]
    }
   ],
   "source": [
    "pip install pandas matplotlib seaborn"
   ]
  },
  {
   "cell_type": "code",
   "execution_count": 8,
   "metadata": {},
   "outputs": [
    {
     "name": "stdout",
     "output_type": "stream",
     "text": [
      "   transaction_id transaction_date transaction_time  transaction_qty  \\\n",
      "1               2       03/13/2023         19:46:25                1   \n",
      "2               3       03/18/2023         09:00:53                1   \n",
      "3               4       03/16/2023         11:16:47                2   \n",
      "4               5       03/18/2023         17:00:22                1   \n",
      "6               7       03/13/2023         10:15:55                3   \n",
      "\n",
      "   store_id store_location  unit_price product_category   product_type  \n",
      "1       2.0        Utrecht         4.5        Chocolate  Hot chocolate  \n",
      "2       3.0          Breda         3.0              Tea      Black tea  \n",
      "3       2.0        Utrecht         3.0           Bakery          Scone  \n",
      "4       3.0          Breda         4.5        Chocolate  Hot chocolate  \n",
      "6       1.0      Amsterdam         3.5           Bakery            Pie  \n"
     ]
    }
   ],
   "source": [
    "import pandas as pd\n",
    "import matplotlib.pyplot as plt\n",
    "import seaborn as sns\n",
    "\n",
    "def load_and_clean_data(filepath):\n",
    "    \"\"\"Laadt de dataset en verwijdert rijen met missende gegevens.\"\"\"\n",
    "    data = pd.read_csv(filepath)\n",
    "    cleaned_data = data.dropna()\n",
    "    return cleaned_data\n",
    "\n",
    "def main():\n",
    "    # Pad naar je dataset\n",
    "    filepath = 'https://raw.githubusercontent.com/marielle1999/-Mathematics-and-Statistics-in-Python/main/dataset_1659397.csv'\n",
    "    \n",
    "    # Data laden en schoonmaken\n",
    "    data = load_and_clean_data(filepath)\n",
    "    \n",
    "    # Print een voorbeeld van de data\n",
    "    print(data.head())\n",
    "\n",
    "if __name__ == \"__main__\":\n",
    "    main()"
   ]
  },
  {
   "cell_type": "code",
   "execution_count": 9,
   "metadata": {},
   "outputs": [
    {
     "name": "stdout",
     "output_type": "stream",
     "text": [
      "De kans dat een transactie meer dan 2 items bevat is 20.16%.\n"
     ]
    }
   ],
   "source": [
    "def calculate_probability_more_than_two_items(data):\n",
    "    # Bereken het totale aantal transacties\n",
    "    total_transactions = len(data)\n",
    "    \n",
    "    # Identificeer transacties met meer dan 2 items en tel ze\n",
    "    transactions_more_than_two_items = len(data[data['transaction_qty'] > 2])\n",
    "    \n",
    "    # Bereken de kans\n",
    "    probability = transactions_more_than_two_items / total_transactions\n",
    "    \n",
    "    return probability\n",
    "\n",
    "def main():\n",
    "    # Pad naar je dataset\n",
    "    filepath = 'https://raw.githubusercontent.com/marielle1999/-Mathematics-and-Statistics-in-Python/main/dataset_1659397.csv'\n",
    "    \n",
    "    # Data laden en schoonmaken\n",
    "    data = load_and_clean_data(filepath)\n",
    "    \n",
    "    # Bereken de kans\n",
    "    probability = calculate_probability_more_than_two_items(data)\n",
    "    \n",
    "    print(f\"De kans dat een transactie meer dan 2 items bevat is {probability:.2%}.\")\n",
    "\n",
    "if __name__ == \"__main__\":\n",
    "    main()\n"
   ]
  },
  {
   "cell_type": "code",
   "execution_count": 14,
   "metadata": {},
   "outputs": [
    {
     "name": "stdout",
     "output_type": "stream",
     "text": [
      "Beschrijvende Statistieken en Scheefheid per Producttype:\n",
      "              product_type   count  mean           std   min   25%   50%  \\\n",
      "0             Black coffee   448.0  2.00  0.000000e+00  2.00  2.00  2.00   \n",
      "1                Black tea   469.0  3.00  0.000000e+00  3.00  3.00  3.00   \n",
      "2                 Chai tea   456.0  3.25  0.000000e+00  3.25  3.25  3.25   \n",
      "3                Green tea   438.0  3.15  8.891941e-16  3.15  3.15  3.15   \n",
      "4               Herbal tea   437.0  3.50  0.000000e+00  3.50  3.50  3.50   \n",
      "5            Hot chocolate  1780.0  4.50  0.000000e+00  4.50  4.50  4.50   \n",
      "6              Milk coffee   474.0  3.50  0.000000e+00  3.50  3.50  3.50   \n",
      "7   Organic blended coffee   472.0  6.30  1.778242e-15  6.30  6.30  6.30   \n",
      "8                      Pie   604.0  3.50  0.000000e+00  3.50  3.50  3.50   \n",
      "9                 Sandwich   606.0  3.75  0.000000e+00  3.75  3.75  3.75   \n",
      "10                   Scone   598.0  3.00  0.000000e+00  3.00  3.00  3.00   \n",
      "11            Syrup coffee   444.0  4.25  0.000000e+00  4.25  4.25  4.25   \n",
      "\n",
      "     75%   max  Skewness  \n",
      "0   2.00  2.00       0.0  \n",
      "1   3.00  3.00       0.0  \n",
      "2   3.25  3.25       0.0  \n",
      "3   3.15  3.15       0.0  \n",
      "4   3.50  3.50       0.0  \n",
      "5   4.50  4.50       0.0  \n",
      "6   3.50  3.50       0.0  \n",
      "7   6.30  6.30       0.0  \n",
      "8   3.50  3.50       0.0  \n",
      "9   3.75  3.75       0.0  \n",
      "10  3.00  3.00       0.0  \n",
      "11  4.25  4.25       0.0  \n"
     ]
    },
    {
     "data": {
      "image/png": "[encoded data removed]",
      "text/plain": [
       "<Figure size 1200x800 with 1 Axes>"
      ]
     },
     "metadata": {},
     "output_type": "display_data"
    }
   ],
   "source": [
    "import pandas as pd\n",
    "import matplotlib.pyplot as plt\n",
    "import seaborn as sns\n",
    "\n",
    "def analyze_unit_price_variation(data):\n",
    "    # Beschrijvende statistieken per producttype\n",
    "    descriptive_stats = data.groupby('product_type')['unit_price'].describe()\n",
    "    \n",
    "    # Scheefheid per producttype\n",
    "    skewness = data.groupby('product_type')['unit_price'].skew().reset_index(name='Skewness')\n",
    "    \n",
    "    # Combineer beschrijvende statistieken en scheefheid\n",
    "    combined_stats = descriptive_stats.merge(skewness, on='product_type')\n",
    "    \n",
    "    print(\"Beschrijvende Statistieken en Scheefheid per Producttype:\")\n",
    "    print(combined_stats)\n",
    "    \n",
    "    # Visualisatie met boxplot\n",
    "    plt.figure(figsize=(12, 8))\n",
    "    sns.boxplot(x='unit_price', y='product_type', data=data)\n",
    "    plt.title('Verdeling van Eenheidsprijzen per Producttype')\n",
    "    plt.xlabel('Eenheidsprijs')\n",
    "    plt.ylabel('Producttype')\n",
    "    plt.show()\n",
    "\n",
    "def main():\n",
    "    # Pad naar je dataset\n",
    "    filepath = 'https://raw.githubusercontent.com/marielle1999/-Mathematics-and-Statistics-in-Python/main/dataset_1659397.csv'\n",
    "    \n",
    "    # Data laden en schoonmaken\n",
    "    data = pd.read_csv(filepath)\n",
    "    cleaned_data = data.dropna()\n",
    "    \n",
    "    # Analyseer de variatie in eenheidsprijs\n",
    "    analyze_unit_price_variation(cleaned_data)\n",
    "\n",
    "if __name__ == \"__main__\":\n",
    "    main()"
   ]
  },
  {
   "cell_type": "code",
   "execution_count": 19,
   "metadata": {},
   "outputs": [
    {
     "name": "stdout",
     "output_type": "stream",
     "text": [
      "De gemiddelde omzet per transactie is: 7.60 EUR.\n",
      "Het 95% vertrouwensinterval voor de gemiddelde omzet per transactie ligt tussen 7.48 EUR en 7.71 EUR.\n"
     ]
    },
    {
     "name": "stderr",
     "output_type": "stream",
     "text": [
      "/tmp/ipykernel_13021/2299165882.py:7: SettingWithCopyWarning: \n",
      "A value is trying to be set on a copy of a slice from a DataFrame.\n",
      "Try using .loc[row_indexer,col_indexer] = value instead\n",
      "\n",
      "See the caveats in the documentation: https://pandas.pydata.org/pandas-docs/stable/user_guide/indexing.html#returning-a-view-versus-a-copy\n",
      "  data['revenue'] = data['transaction_qty'] * data['unit_price']\n"
     ]
    }
   ],
   "source": [
    "import pandas as pd\n",
    "import numpy as np\n",
    "from scipy import stats\n",
    "\n",
    "def calculate_average_revenue_and_confidence_interval(data):\n",
    "    # Bereken de totale omzet per transactie\n",
    "    data['revenue'] = data['transaction_qty'] * data['unit_price']\n",
    "    \n",
    "    # Bereken het gemiddelde van deze omzet\n",
    "    average_revenue = data['revenue'].mean()\n",
    "    \n",
    "    # Bereken het 95% vertrouwensinterval voor het gemiddelde\n",
    "    confidence_interval = stats.t.interval(0.95, len(data['revenue'])-1, loc=np.mean(data['revenue']), scale=stats.sem(data['revenue']))\n",
    "    \n",
    "    return average_revenue, confidence_interval\n",
    "\n",
    "def main():\n",
    "    # Pad naar je dataset\n",
    "    filepath = 'https://raw.githubusercontent.com/marielle1999/-Mathematics-and-Statistics-in-Python/main/dataset_1659397.csv'\n",
    "    \n",
    "    # Data laden en schoonmaken\n",
    "    data = pd.read_csv(filepath)\n",
    "    cleaned_data = data.dropna()\n",
    "    \n",
    "    # Bereken gemiddelde omzet en vertrouwensinterval\n",
    "    average_revenue, confidence_interval = calculate_average_revenue_and_confidence_interval(cleaned_data)\n",
    "    \n",
    "    print(f\"De gemiddelde omzet per transactie is: {average_revenue:.2f} EUR.\")\n",
    "    print(f\"Het 95% vertrouwensinterval voor de gemiddelde omzet per transactie ligt tussen {confidence_interval[0]:.2f} EUR en {confidence_interval[1]:.2f} EUR.\")\n",
    "\n",
    "if __name__ == \"__main__\":\n",
    "    main()\n",
    "\n",
    "\n"
   ]
  },
  {
   "cell_type": "code",
   "execution_count": 21,
   "metadata": {},
   "outputs": [
    {
     "name": "stdout",
     "output_type": "stream",
     "text": [
      "The average revenue per transaction is: 7.60 EUR.\n",
      "The 95% confidence interval for the average revenue per transaction is between 7.48 EUR and 7.71 EUR.\n"
     ]
    }
   ],
   "source": [
    "import pandas as pd\n",
    "\n",
    "def calculate_revenue(data):\n",
    "    data['revenue'] = data['transaction_qty'] * data['unit_price']\n",
    "    return data\n",
    "\n",
    "def main():\n",
    "    # Load your data into a DataFrame\n",
    "    data = pd.read_csv('https://raw.githubusercontent.com/marielle1999/-Mathematics-and-Statistics-in-Python/main/dataset_1659397.csv')  # Make sure to replace 'your_file.csv' with your actual file path\n",
    "\n",
    "    # Clean the data if needed (e.g., handle missing values)\n",
    "    data.dropna(inplace=True)  # This will drop rows with missing values\n",
    "\n",
    "    # Calculate revenue\n",
    "    data = calculate_revenue(data)\n",
    "\n",
    "    # Compute descriptive statistics\n",
    "    avg_revenue = data['revenue'].mean()\n",
    "    std_revenue = data['revenue'].std()\n",
    "\n",
    "    # Compute 95% confidence interval for average revenue per transaction\n",
    "    confidence_interval = stats.norm.interval(0.95, loc=avg_revenue, scale=std_revenue/len(data)**0.5)\n",
    "\n",
    "    # Print results\n",
    "    print(f\"The average revenue per transaction is: {avg_revenue:.2f} EUR.\")\n",
    "    print(f\"The 95% confidence interval for the average revenue per transaction is between {confidence_interval[0]:.2f} EUR and {confidence_interval[1]:.2f} EUR.\")\n",
    "\n",
    "if __name__ == \"__main__\":\n",
    "    main()\n"
   ]
  },
  {
   "cell_type": "code",
   "execution_count": 25,
   "metadata": {},
   "outputs": [
    {
     "ename": "KeyError",
     "evalue": "'revenue'",
     "output_type": "error",
     "traceback": [
      "\u001b[0;31m---------------------------------------------------------------------------\u001b[0m",
      "\u001b[0;31mKeyError\u001b[0m                                  Traceback (most recent call last)",
      "File \u001b[0;32m~/.local/lib/python3.10/site-packages/pandas/core/indexes/base.py:3805\u001b[0m, in \u001b[0;36mIndex.get_loc\u001b[0;34m(self, key)\u001b[0m\n\u001b[1;32m   3804\u001b[0m \u001b[38;5;28;01mtry\u001b[39;00m:\n\u001b[0;32m-> 3805\u001b[0m     \u001b[38;5;28;01mreturn\u001b[39;00m \u001b[38;5;28;43mself\u001b[39;49m\u001b[38;5;241;43m.\u001b[39;49m\u001b[43m_engine\u001b[49m\u001b[38;5;241;43m.\u001b[39;49m\u001b[43mget_loc\u001b[49m\u001b[43m(\u001b[49m\u001b[43mcasted_key\u001b[49m\u001b[43m)\u001b[49m\n\u001b[1;32m   3806\u001b[0m \u001b[38;5;28;01mexcept\u001b[39;00m \u001b[38;5;167;01mKeyError\u001b[39;00m \u001b[38;5;28;01mas\u001b[39;00m err:\n",
      "File \u001b[0;32mindex.pyx:167\u001b[0m, in \u001b[0;36mpandas._libs.index.IndexEngine.get_loc\u001b[0;34m()\u001b[0m\n",
      "File \u001b[0;32mindex.pyx:196\u001b[0m, in \u001b[0;36mpandas._libs.index.IndexEngine.get_loc\u001b[0;34m()\u001b[0m\n",
      "File \u001b[0;32mpandas/_libs/hashtable_class_helper.pxi:7081\u001b[0m, in \u001b[0;36mpandas._libs.hashtable.PyObjectHashTable.get_item\u001b[0;34m()\u001b[0m\n",
      "File \u001b[0;32mpandas/_libs/hashtable_class_helper.pxi:7089\u001b[0m, in \u001b[0;36mpandas._libs.hashtable.PyObjectHashTable.get_item\u001b[0;34m()\u001b[0m\n",
      "\u001b[0;31mKeyError\u001b[0m: 'revenue'",
      "\nThe above exception was the direct cause of the following exception:\n",
      "\u001b[0;31mKeyError\u001b[0m                                  Traceback (most recent call last)",
      "Cell \u001b[0;32mIn[25], line 8\u001b[0m\n\u001b[1;32m      1\u001b[0m \u001b[38;5;28;01mfrom\u001b[39;00m \u001b[38;5;21;01mscipy\u001b[39;00m\u001b[38;5;21;01m.\u001b[39;00m\u001b[38;5;21;01mstats\u001b[39;00m \u001b[38;5;28;01mimport\u001b[39;00m ttest_ind\n\u001b[1;32m      3\u001b[0m \u001b[38;5;66;03m# Stap 5: Formuleer de hypothese\u001b[39;00m\n\u001b[1;32m      4\u001b[0m \u001b[38;5;66;03m# Null Hypothese: Er is geen significant verschil in omzet tussen productcategorieën\u001b[39;00m\n\u001b[1;32m      5\u001b[0m \u001b[38;5;66;03m# Alternatieve Hypothese: Er is een significant verschil in omzet tussen productcategorieën\u001b[39;00m\n\u001b[1;32m      6\u001b[0m \n\u001b[1;32m      7\u001b[0m \u001b[38;5;66;03m# Stap 6: Voer de t-toets uit\u001b[39;00m\n\u001b[0;32m----> 8\u001b[0m category_A_revenue \u001b[38;5;241m=\u001b[39m \u001b[43mdata\u001b[49m\u001b[43m[\u001b[49m\u001b[43mdata\u001b[49m\u001b[43m[\u001b[49m\u001b[38;5;124;43m'\u001b[39;49m\u001b[38;5;124;43mproduct_category\u001b[39;49m\u001b[38;5;124;43m'\u001b[39;49m\u001b[43m]\u001b[49m\u001b[43m \u001b[49m\u001b[38;5;241;43m==\u001b[39;49m\u001b[43m \u001b[49m\u001b[38;5;124;43m'\u001b[39;49m\u001b[38;5;124;43mCategory A\u001b[39;49m\u001b[38;5;124;43m'\u001b[39;49m\u001b[43m]\u001b[49m\u001b[43m[\u001b[49m\u001b[38;5;124;43m'\u001b[39;49m\u001b[38;5;124;43mrevenue\u001b[39;49m\u001b[38;5;124;43m'\u001b[39;49m\u001b[43m]\u001b[49m\n\u001b[1;32m      9\u001b[0m category_B_revenue \u001b[38;5;241m=\u001b[39m data[data[\u001b[38;5;124m'\u001b[39m\u001b[38;5;124mproduct_category\u001b[39m\u001b[38;5;124m'\u001b[39m] \u001b[38;5;241m==\u001b[39m \u001b[38;5;124m'\u001b[39m\u001b[38;5;124mCategory B\u001b[39m\u001b[38;5;124m'\u001b[39m][\u001b[38;5;124m'\u001b[39m\u001b[38;5;124mrevenue\u001b[39m\u001b[38;5;124m'\u001b[39m]\n\u001b[1;32m     11\u001b[0m t_statistic, p_value \u001b[38;5;241m=\u001b[39m ttest_ind(category_A_revenue, category_B_revenue)\n",
      "File \u001b[0;32m~/.local/lib/python3.10/site-packages/pandas/core/frame.py:4090\u001b[0m, in \u001b[0;36mDataFrame.__getitem__\u001b[0;34m(self, key)\u001b[0m\n\u001b[1;32m   4088\u001b[0m \u001b[38;5;28;01mif\u001b[39;00m \u001b[38;5;28mself\u001b[39m\u001b[38;5;241m.\u001b[39mcolumns\u001b[38;5;241m.\u001b[39mnlevels \u001b[38;5;241m>\u001b[39m \u001b[38;5;241m1\u001b[39m:\n\u001b[1;32m   4089\u001b[0m     \u001b[38;5;28;01mreturn\u001b[39;00m \u001b[38;5;28mself\u001b[39m\u001b[38;5;241m.\u001b[39m_getitem_multilevel(key)\n\u001b[0;32m-> 4090\u001b[0m indexer \u001b[38;5;241m=\u001b[39m \u001b[38;5;28;43mself\u001b[39;49m\u001b[38;5;241;43m.\u001b[39;49m\u001b[43mcolumns\u001b[49m\u001b[38;5;241;43m.\u001b[39;49m\u001b[43mget_loc\u001b[49m\u001b[43m(\u001b[49m\u001b[43mkey\u001b[49m\u001b[43m)\u001b[49m\n\u001b[1;32m   4091\u001b[0m \u001b[38;5;28;01mif\u001b[39;00m is_integer(indexer):\n\u001b[1;32m   4092\u001b[0m     indexer \u001b[38;5;241m=\u001b[39m [indexer]\n",
      "File \u001b[0;32m~/.local/lib/python3.10/site-packages/pandas/core/indexes/base.py:3812\u001b[0m, in \u001b[0;36mIndex.get_loc\u001b[0;34m(self, key)\u001b[0m\n\u001b[1;32m   3807\u001b[0m     \u001b[38;5;28;01mif\u001b[39;00m \u001b[38;5;28misinstance\u001b[39m(casted_key, \u001b[38;5;28mslice\u001b[39m) \u001b[38;5;129;01mor\u001b[39;00m (\n\u001b[1;32m   3808\u001b[0m         \u001b[38;5;28misinstance\u001b[39m(casted_key, abc\u001b[38;5;241m.\u001b[39mIterable)\n\u001b[1;32m   3809\u001b[0m         \u001b[38;5;129;01mand\u001b[39;00m \u001b[38;5;28many\u001b[39m(\u001b[38;5;28misinstance\u001b[39m(x, \u001b[38;5;28mslice\u001b[39m) \u001b[38;5;28;01mfor\u001b[39;00m x \u001b[38;5;129;01min\u001b[39;00m casted_key)\n\u001b[1;32m   3810\u001b[0m     ):\n\u001b[1;32m   3811\u001b[0m         \u001b[38;5;28;01mraise\u001b[39;00m InvalidIndexError(key)\n\u001b[0;32m-> 3812\u001b[0m     \u001b[38;5;28;01mraise\u001b[39;00m \u001b[38;5;167;01mKeyError\u001b[39;00m(key) \u001b[38;5;28;01mfrom\u001b[39;00m \u001b[38;5;21;01merr\u001b[39;00m\n\u001b[1;32m   3813\u001b[0m \u001b[38;5;28;01mexcept\u001b[39;00m \u001b[38;5;167;01mTypeError\u001b[39;00m:\n\u001b[1;32m   3814\u001b[0m     \u001b[38;5;66;03m# If we have a listlike key, _check_indexing_error will raise\u001b[39;00m\n\u001b[1;32m   3815\u001b[0m     \u001b[38;5;66;03m#  InvalidIndexError. Otherwise we fall through and re-raise\u001b[39;00m\n\u001b[1;32m   3816\u001b[0m     \u001b[38;5;66;03m#  the TypeError.\u001b[39;00m\n\u001b[1;32m   3817\u001b[0m     \u001b[38;5;28mself\u001b[39m\u001b[38;5;241m.\u001b[39m_check_indexing_error(key)\n",
      "\u001b[0;31mKeyError\u001b[0m: 'revenue'"
     ]
    }
   ],
   "source": [
    "from scipy.stats import ttest_ind\n",
    "\n",
    "# Stap 5: Formuleer de hypothese\n",
    "# Null Hypothese: Er is geen significant verschil in omzet tussen productcategorieën\n",
    "# Alternatieve Hypothese: Er is een significant verschil in omzet tussen productcategorieën\n",
    "\n",
    "# Stap 6: Voer de t-toets uit\n",
    "category_A_revenue = data[data['product_category'] == 'Category A']['revenue']\n",
    "category_B_revenue = data[data['product_category'] == 'Category B']['revenue']\n",
    "\n",
    "t_statistic, p_value = ttest_ind(category_A_revenue, category_B_revenue)\n",
    "\n",
    "# Stap 7: Interpretatie van resultaten\n",
    "alpha = 0.05\n",
    "if p_value < alpha:\n",
    "    print(\"We verwerpen de nulhypothese. Er is een significant verschil in omzet tussen productcategorieën.\")\n",
    "else:\n",
    "    print(\"We behouden de nulhypothese. Er is geen significant verschil in omzet tussen productcategorieën.\")\n",
    "\n"
   ]
  }
 ],
 "metadata": {
  "kernelspec": {
   "display_name": "Python 3",
   "language": "python",
   "name": "python3"
  },
  "language_info": {
   "codemirror_mode": {
    "name": "ipython",
    "version": 3
   },
   "file_extension": ".py",
   "mimetype": "text/x-python",
   "name": "python",
   "nbconvert_exporter": "python",
   "pygments_lexer": "ipython3",
   "version": "3.10.13"
  }
 },
 "nbformat": 4,
 "nbformat_minor": 2
}
